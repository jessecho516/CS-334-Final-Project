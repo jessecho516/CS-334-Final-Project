{
 "cells": [
  {
   "cell_type": "code",
   "execution_count": 356,
   "metadata": {},
   "outputs": [],
   "source": [
    "import numpy as np\n",
    "import pandas as pd\n",
    "import json\n",
    "import time"
   ]
  },
  {
   "cell_type": "markdown",
   "metadata": {},
   "source": [
    "### How do we predict what rating a user is going to give?\n",
    "1) Business side:\n",
    "    - location\n",
    "    - type\n",
    "    - hours\n",
    "    - parking availability\n",
    "    - ambience\n",
    "    - takeout?\n",
    "2) User side:\n",
    "    - how long on yelp\n",
    "    - elite status\n",
    "    - review count\n",
    "    - useful/funny/cool\n",
    "    - home\n",
    "\n",
    "# TODO\n",
    "    - Matthew\n",
    "        - isolate restaurants in business_df\n",
    "        - preprocessing: marking reviews as good or bad\n",
    "    - feature extraction\n",
    "        - hometown\n",
    "        - number of tips by user\n",
    "\n",
    "    - other preprocessing\n",
    "        - yelpin since: timestamp today - yelping since --- COMPLETE\n",
    "        - elite status: how many years have they been elite\n",
    "        - only consider business with certain number of reviews\n",
    "        - only consider \"active users\"\n",
    "\n",
    "# Next\n",
    "    - what happens if we remove \"inactive\" users\n",
    "\n",
    "        "
   ]
  },
  {
   "cell_type": "code",
   "execution_count": 357,
   "metadata": {},
   "outputs": [],
   "source": [
    "business_df = pd.read_csv(\"sample_restaurant.csv\")\n",
    "checkin_df = pd.read_csv(\"sample_checkin.csv\")\n",
    "review_df = pd.read_csv(\"sample_review.csv\")\n",
    "tip_df = pd.read_csv(\"sample_tip.csv\")\n",
    "user_df = pd.read_csv(\"sample_user.csv\")"
   ]
  },
  {
   "cell_type": "code",
   "execution_count": 358,
   "metadata": {},
   "outputs": [],
   "source": [
    "business_df.drop(columns = 'Unnamed: 0', inplace = True)\n",
    "business_loc = business_df.iloc[:, [0,3, 4, 5, 6, 7]]"
   ]
  },
  {
   "cell_type": "code",
   "execution_count": 359,
   "metadata": {},
   "outputs": [],
   "source": [
    "user_useful = user_df.iloc[:, [1, 2, 3, 4, 5, 6, 7, 8, 9, 10, 11]]\n",
    "user_useful.set_index('user_id', inplace = True)"
   ]
  },
  {
   "cell_type": "code",
   "execution_count": 360,
   "metadata": {},
   "outputs": [],
   "source": [
    "review_df.drop(columns = 'Unnamed: 0', inplace=True)"
   ]
  },
  {
   "cell_type": "code",
   "execution_count": 361,
   "metadata": {},
   "outputs": [],
   "source": [
    "rJoinU = review_df.join(user_useful, on = 'user_id', lsuffix='_Rev', rsuffix = '_User')"
   ]
  },
  {
   "cell_type": "code",
   "execution_count": 362,
   "metadata": {},
   "outputs": [],
   "source": [
    "rJoinU.dropna(inplace = True)"
   ]
  },
  {
   "cell_type": "code",
   "execution_count": 363,
   "metadata": {},
   "outputs": [],
   "source": [
    "business_loc.set_index('business_id', inplace= True)"
   ]
  },
  {
   "cell_type": "code",
   "execution_count": 364,
   "metadata": {},
   "outputs": [],
   "source": [
    "rJUJBloc = rJoinU.join(business_loc, on='business_id', lsuffix='_rJU', rsuffix='_bloc')"
   ]
  },
  {
   "cell_type": "code",
   "execution_count": 365,
   "metadata": {},
   "outputs": [],
   "source": [
    "rJUJBloc.dropna(inplace= True)"
   ]
  },
  {
   "cell_type": "code",
   "execution_count": 366,
   "metadata": {},
   "outputs": [],
   "source": [
    "hometown = rJUJBloc.groupby(['user_id'])['city'].agg(lambda x: pd.Series.mode(x)[0]).to_frame()"
   ]
  },
  {
   "cell_type": "code",
   "execution_count": 367,
   "metadata": {},
   "outputs": [
    {
     "data": {
      "text/html": [
       "<div>\n",
       "<style scoped>\n",
       "    .dataframe tbody tr th:only-of-type {\n",
       "        vertical-align: middle;\n",
       "    }\n",
       "\n",
       "    .dataframe tbody tr th {\n",
       "        vertical-align: top;\n",
       "    }\n",
       "\n",
       "    .dataframe thead th {\n",
       "        text-align: right;\n",
       "    }\n",
       "</style>\n",
       "<table border=\"1\" class=\"dataframe\">\n",
       "  <thead>\n",
       "    <tr style=\"text-align: right;\">\n",
       "      <th></th>\n",
       "      <th>city</th>\n",
       "    </tr>\n",
       "    <tr>\n",
       "      <th>user_id</th>\n",
       "      <th></th>\n",
       "    </tr>\n",
       "  </thead>\n",
       "  <tbody>\n",
       "    <tr>\n",
       "      <th>--_r6E98SNIrGU7weyNxbw</th>\n",
       "      <td>West Chester</td>\n",
       "    </tr>\n",
       "    <tr>\n",
       "      <th>--rpFxc_x14BWF708pfR6Q</th>\n",
       "      <td>Philadelphia</td>\n",
       "    </tr>\n",
       "    <tr>\n",
       "      <th>-0U1fhFq9zl4AyKafrKHFw</th>\n",
       "      <td>Nashville</td>\n",
       "    </tr>\n",
       "    <tr>\n",
       "      <th>-0aInSHjCWLfiNqfgmWnow</th>\n",
       "      <td>Philadelphia</td>\n",
       "    </tr>\n",
       "    <tr>\n",
       "      <th>-0aZWYi2YicFaLxTru96nA</th>\n",
       "      <td>Philadelphia</td>\n",
       "    </tr>\n",
       "    <tr>\n",
       "      <th>...</th>\n",
       "      <td>...</td>\n",
       "    </tr>\n",
       "    <tr>\n",
       "      <th>zwXmvn1op5LuFF2Kveqaug</th>\n",
       "      <td>Indianapolis</td>\n",
       "    </tr>\n",
       "    <tr>\n",
       "      <th>zxNtaKTMzZzum8ek2v4UXg</th>\n",
       "      <td>Reno</td>\n",
       "    </tr>\n",
       "    <tr>\n",
       "      <th>zxuxd6Hz2tKcpgZ71dYEcw</th>\n",
       "      <td>Edmonton</td>\n",
       "    </tr>\n",
       "    <tr>\n",
       "      <th>zyNrXvJyYdC34tS6BcCykA</th>\n",
       "      <td>Philadelphia</td>\n",
       "    </tr>\n",
       "    <tr>\n",
       "      <th>zyvxtbh5eJ86bVgk52Yflg</th>\n",
       "      <td>Saint Louis</td>\n",
       "    </tr>\n",
       "  </tbody>\n",
       "</table>\n",
       "<p>7754 rows × 1 columns</p>\n",
       "</div>"
      ],
      "text/plain": [
       "                                city\n",
       "user_id                             \n",
       "--_r6E98SNIrGU7weyNxbw  West Chester\n",
       "--rpFxc_x14BWF708pfR6Q  Philadelphia\n",
       "-0U1fhFq9zl4AyKafrKHFw     Nashville\n",
       "-0aInSHjCWLfiNqfgmWnow  Philadelphia\n",
       "-0aZWYi2YicFaLxTru96nA  Philadelphia\n",
       "...                              ...\n",
       "zwXmvn1op5LuFF2Kveqaug  Indianapolis\n",
       "zxNtaKTMzZzum8ek2v4UXg          Reno\n",
       "zxuxd6Hz2tKcpgZ71dYEcw      Edmonton\n",
       "zyNrXvJyYdC34tS6BcCykA  Philadelphia\n",
       "zyvxtbh5eJ86bVgk52Yflg   Saint Louis\n",
       "\n",
       "[7754 rows x 1 columns]"
      ]
     },
     "execution_count": 367,
     "metadata": {},
     "output_type": "execute_result"
    }
   ],
   "source": [
    "hometown"
   ]
  },
  {
   "cell_type": "code",
   "execution_count": 368,
   "metadata": {},
   "outputs": [],
   "source": [
    "data = rJUJBloc.merge(hometown, how = 'left', on=\"user_id\", suffixes=('_x', '_y'))"
   ]
  },
  {
   "cell_type": "code",
   "execution_count": 369,
   "metadata": {},
   "outputs": [],
   "source": [
    "data['is_home'] = (data['city_x'] == data['city_y']).astype(int)"
   ]
  },
  {
   "cell_type": "markdown",
   "metadata": {},
   "source": [
    "## Yelping Since"
   ]
  },
  {
   "cell_type": "code",
   "execution_count": 370,
   "metadata": {},
   "outputs": [],
   "source": [
    "data['time_since'] = (pd.Timestamp(2022, 11, 29) - pd.to_datetime(data.date)).dt.days"
   ]
  },
  {
   "cell_type": "code",
   "execution_count": 371,
   "metadata": {},
   "outputs": [
    {
     "data": {
      "text/plain": [
       "Index(['review_id', 'user_id', 'business_id', 'stars', 'useful_Rev',\n",
       "       'funny_Rev', 'cool_Rev', 'text', 'date', 'name', 'review_count',\n",
       "       'yelping_since', 'useful_User', 'funny_User', 'cool_User', 'elite',\n",
       "       'friends', 'fans', 'average_stars', 'city_x', 'state', 'postal_code',\n",
       "       'latitude', 'longitude', 'city_y', 'is_home', 'time_since'],\n",
       "      dtype='object')"
      ]
     },
     "execution_count": 371,
     "metadata": {},
     "output_type": "execute_result"
    }
   ],
   "source": [
    "data.columns"
   ]
  },
  {
   "cell_type": "markdown",
   "metadata": {},
   "source": [
    "## Matthew's Portion: marking \"good\" reviews"
   ]
  },
  {
   "cell_type": "code",
   "execution_count": 372,
   "metadata": {},
   "outputs": [],
   "source": [
    "merged = business_df.merge(review_df, on='business_id')"
   ]
  },
  {
   "cell_type": "code",
   "execution_count": 373,
   "metadata": {},
   "outputs": [],
   "source": [
    "merged.dropna(inplace=True)"
   ]
  },
  {
   "cell_type": "code",
   "execution_count": 374,
   "metadata": {},
   "outputs": [],
   "source": [
    "merged['goodReview'] = (merged['stars_x'] < merged['stars_y']).astype(int)"
   ]
  },
  {
   "cell_type": "code",
   "execution_count": 375,
   "metadata": {},
   "outputs": [],
   "source": [
    "goodRev = merged.loc[:, ['review_id','business_id', 'stars_x', 'goodReview']]"
   ]
  },
  {
   "cell_type": "code",
   "execution_count": 376,
   "metadata": {},
   "outputs": [],
   "source": [
    "goodRev.rename(columns={'stars_x': 'stars_bus'}, inplace=True)"
   ]
  },
  {
   "cell_type": "code",
   "execution_count": 377,
   "metadata": {},
   "outputs": [],
   "source": [
    "dataFull = data.merge(goodRev, on='review_id')"
   ]
  },
  {
   "cell_type": "markdown",
   "metadata": {},
   "source": [
    "# Try a model"
   ]
  },
  {
   "cell_type": "code",
   "execution_count": 379,
   "metadata": {},
   "outputs": [],
   "source": [
    "# Logistic\n",
    "from sklearn.linear_model import LogisticRegression\n",
    "from sklearn.preprocessing import StandardScaler"
   ]
  },
  {
   "cell_type": "markdown",
   "metadata": {},
   "source": [
    "#### Using features: \n",
    "    - star rating of review\n",
    "    - review count of user\n",
    "    - useful of user\n",
    "    - funny of user\n",
    "    - cool of user\n",
    "    - # fans of user\n",
    "    - average star rating OF USER\n",
    "    - is hometown\n",
    "    - time since joining yelp\n",
    "\n",
    "## TODO:\n",
    "    - try a 70-30 train test split and evaluate performance\n",
    "    - extract elite\n",
    "    - extract # of friends"
   ]
  },
  {
   "cell_type": "markdown",
   "metadata": {},
   "source": [
    "# Elite"
   ]
  },
  {
   "cell_type": "code",
   "execution_count": 380,
   "metadata": {},
   "outputs": [],
   "source": [
    "elite = data.loc[:, ['user_id', 'elite']]"
   ]
  },
  {
   "cell_type": "code",
   "execution_count": 381,
   "metadata": {},
   "outputs": [],
   "source": [
    "elite['glitch'] = elite['elite'].str.contains('20,20').astype(int)"
   ]
  },
  {
   "cell_type": "code",
   "execution_count": 382,
   "metadata": {},
   "outputs": [],
   "source": [
    "elite['elite'] = elite['elite'].str.split(',')"
   ]
  },
  {
   "cell_type": "code",
   "execution_count": 383,
   "metadata": {},
   "outputs": [],
   "source": [
    "elite['count'] = elite['elite'].apply(lambda x: len(x))"
   ]
  },
  {
   "cell_type": "code",
   "execution_count": 384,
   "metadata": {},
   "outputs": [],
   "source": [
    "elite['trueCount'] = elite['count'] - elite['glitch']"
   ]
  },
  {
   "cell_type": "code",
   "execution_count": 405,
   "metadata": {},
   "outputs": [],
   "source": [
    "elite.drop(columns=['elite', 'glitch', 'count'], inplace = True)"
   ]
  },
  {
   "cell_type": "code",
   "execution_count": 408,
   "metadata": {},
   "outputs": [],
   "source": [
    "elite = elite.rename(columns={'trueCount': 'eliteCount'})"
   ]
  },
  {
   "cell_type": "code",
   "execution_count": 410,
   "metadata": {},
   "outputs": [],
   "source": [
    "elite = elite.drop_duplicates(subset = 'user_id')"
   ]
  },
  {
   "cell_type": "code",
   "execution_count": 413,
   "metadata": {},
   "outputs": [],
   "source": [
    "dataFull = dataFull.merge(elite, how = 'left', on = 'user_id')"
   ]
  },
  {
   "cell_type": "code",
   "execution_count": 415,
   "metadata": {},
   "outputs": [],
   "source": [
    "friends = data.loc[:, ['user_id', 'friends']]"
   ]
  },
  {
   "cell_type": "code",
   "execution_count": 416,
   "metadata": {},
   "outputs": [],
   "source": [
    "friends['numFriends'] = friends.friends.str.split(',').apply(lambda x: len(x))"
   ]
  },
  {
   "cell_type": "code",
   "execution_count": 417,
   "metadata": {},
   "outputs": [],
   "source": [
    "friends.drop(columns = 'friends', inplace = True)"
   ]
  },
  {
   "cell_type": "code",
   "execution_count": 418,
   "metadata": {},
   "outputs": [],
   "source": [
    "friends = friends.drop_duplicates(subset='user_id')"
   ]
  },
  {
   "cell_type": "code",
   "execution_count": 419,
   "metadata": {},
   "outputs": [],
   "source": [
    "dataFull = dataFull.merge(friends, how = 'left', on = 'user_id')"
   ]
  },
  {
   "cell_type": "code",
   "execution_count": 439,
   "metadata": {},
   "outputs": [],
   "source": [
    "dataFull = dataFull.drop_duplicates(subset='review_id')"
   ]
  },
  {
   "cell_type": "code",
   "execution_count": 447,
   "metadata": {},
   "outputs": [
    {
     "data": {
      "text/html": [
       "<div>\n",
       "<style scoped>\n",
       "    .dataframe tbody tr th:only-of-type {\n",
       "        vertical-align: middle;\n",
       "    }\n",
       "\n",
       "    .dataframe tbody tr th {\n",
       "        vertical-align: top;\n",
       "    }\n",
       "\n",
       "    .dataframe thead th {\n",
       "        text-align: right;\n",
       "    }\n",
       "</style>\n",
       "<table border=\"1\" class=\"dataframe\">\n",
       "  <thead>\n",
       "    <tr style=\"text-align: right;\">\n",
       "      <th></th>\n",
       "      <th>review_id</th>\n",
       "      <th>user_id</th>\n",
       "      <th>business_id_x</th>\n",
       "      <th>stars</th>\n",
       "      <th>useful_Rev</th>\n",
       "      <th>funny_Rev</th>\n",
       "      <th>cool_Rev</th>\n",
       "      <th>text</th>\n",
       "      <th>date</th>\n",
       "      <th>name</th>\n",
       "      <th>...</th>\n",
       "      <th>latitude</th>\n",
       "      <th>longitude</th>\n",
       "      <th>city_y</th>\n",
       "      <th>is_home</th>\n",
       "      <th>time_since</th>\n",
       "      <th>business_id_y</th>\n",
       "      <th>stars_bus</th>\n",
       "      <th>goodReview</th>\n",
       "      <th>eliteCount</th>\n",
       "      <th>numFriends</th>\n",
       "    </tr>\n",
       "  </thead>\n",
       "  <tbody>\n",
       "    <tr>\n",
       "      <th>0</th>\n",
       "      <td>NILjwITiFhpdhiE3SiHR8Q</td>\n",
       "      <td>WUgxsRUFjATha8L4qWYDww</td>\n",
       "      <td>fbQkVymvZ0dig8umltKhZQ</td>\n",
       "      <td>3</td>\n",
       "      <td>2</td>\n",
       "      <td>1</td>\n",
       "      <td>1</td>\n",
       "      <td>They give you LOTS of food and you will not go...</td>\n",
       "      <td>2020-09-23 21:49:15</td>\n",
       "      <td>Glenn</td>\n",
       "      <td>...</td>\n",
       "      <td>27.948237</td>\n",
       "      <td>-82.527587</td>\n",
       "      <td>Tampa</td>\n",
       "      <td>1</td>\n",
       "      <td>796</td>\n",
       "      <td>fbQkVymvZ0dig8umltKhZQ</td>\n",
       "      <td>4.0</td>\n",
       "      <td>0</td>\n",
       "      <td>10</td>\n",
       "      <td>168</td>\n",
       "    </tr>\n",
       "    <tr>\n",
       "      <th>1</th>\n",
       "      <td>hOwUw1fz3aB4ZhgqCetGTw</td>\n",
       "      <td>fr1Hz2acAb3OaL3l6DyKNg</td>\n",
       "      <td>RewAum_fQ0lXdFoUX18J0g</td>\n",
       "      <td>5</td>\n",
       "      <td>17</td>\n",
       "      <td>4</td>\n",
       "      <td>13</td>\n",
       "      <td>It is 4.5 stars. Not yet 5 stars. Mel has a go...</td>\n",
       "      <td>2020-08-18 19:09:46</td>\n",
       "      <td>Boon</td>\n",
       "      <td>...</td>\n",
       "      <td>28.031316</td>\n",
       "      <td>-82.451534</td>\n",
       "      <td>Tampa</td>\n",
       "      <td>1</td>\n",
       "      <td>832</td>\n",
       "      <td>RewAum_fQ0lXdFoUX18J0g</td>\n",
       "      <td>5.0</td>\n",
       "      <td>0</td>\n",
       "      <td>8</td>\n",
       "      <td>825</td>\n",
       "    </tr>\n",
       "    <tr>\n",
       "      <th>15</th>\n",
       "      <td>bbVN5xloXk4Bzf6AF0wwMw</td>\n",
       "      <td>8fkeTZoaojIL3GIHvvTCyA</td>\n",
       "      <td>LdECsE8lJS7v5GTFTcjPSg</td>\n",
       "      <td>4</td>\n",
       "      <td>0</td>\n",
       "      <td>0</td>\n",
       "      <td>0</td>\n",
       "      <td>Before reading on, make sure id you eat here y...</td>\n",
       "      <td>2018-12-16 00:07:13</td>\n",
       "      <td>Amy</td>\n",
       "      <td>...</td>\n",
       "      <td>27.725209</td>\n",
       "      <td>-82.742302</td>\n",
       "      <td>St. Pete Beach</td>\n",
       "      <td>1</td>\n",
       "      <td>1443</td>\n",
       "      <td>LdECsE8lJS7v5GTFTcjPSg</td>\n",
       "      <td>4.0</td>\n",
       "      <td>0</td>\n",
       "      <td>3</td>\n",
       "      <td>34</td>\n",
       "    </tr>\n",
       "    <tr>\n",
       "      <th>16</th>\n",
       "      <td>OQL_x9smctWsVq_qQTOlcg</td>\n",
       "      <td>_zC91aGLwBjnMJji-rpG9A</td>\n",
       "      <td>cGX-1IUwXOjkUqZbkKYcjw</td>\n",
       "      <td>5</td>\n",
       "      <td>8</td>\n",
       "      <td>0</td>\n",
       "      <td>3</td>\n",
       "      <td>Fogo De Chao\\r\\n1337 Chestnut Street, Philadel...</td>\n",
       "      <td>2015-11-03 03:01:00</td>\n",
       "      <td>John</td>\n",
       "      <td>...</td>\n",
       "      <td>39.950917</td>\n",
       "      <td>-75.162971</td>\n",
       "      <td>Philadelphia</td>\n",
       "      <td>1</td>\n",
       "      <td>2582</td>\n",
       "      <td>cGX-1IUwXOjkUqZbkKYcjw</td>\n",
       "      <td>4.0</td>\n",
       "      <td>1</td>\n",
       "      <td>2</td>\n",
       "      <td>68</td>\n",
       "    </tr>\n",
       "    <tr>\n",
       "      <th>17</th>\n",
       "      <td>P-tNl7Z4lBq-nPvzU0S2Iw</td>\n",
       "      <td>pUNvLJwdJIOemOgU98mp1w</td>\n",
       "      <td>2HxkdqHmbYGj_BH1bLaiSw</td>\n",
       "      <td>4</td>\n",
       "      <td>5</td>\n",
       "      <td>2</td>\n",
       "      <td>3</td>\n",
       "      <td>Nektar is a beautiful wine bar right in the ce...</td>\n",
       "      <td>2020-04-10 12:53:26</td>\n",
       "      <td>Amy</td>\n",
       "      <td>...</td>\n",
       "      <td>40.362115</td>\n",
       "      <td>-74.950957</td>\n",
       "      <td>Lansdale</td>\n",
       "      <td>0</td>\n",
       "      <td>962</td>\n",
       "      <td>2HxkdqHmbYGj_BH1bLaiSw</td>\n",
       "      <td>4.0</td>\n",
       "      <td>0</td>\n",
       "      <td>10</td>\n",
       "      <td>335</td>\n",
       "    </tr>\n",
       "    <tr>\n",
       "      <th>...</th>\n",
       "      <td>...</td>\n",
       "      <td>...</td>\n",
       "      <td>...</td>\n",
       "      <td>...</td>\n",
       "      <td>...</td>\n",
       "      <td>...</td>\n",
       "      <td>...</td>\n",
       "      <td>...</td>\n",
       "      <td>...</td>\n",
       "      <td>...</td>\n",
       "      <td>...</td>\n",
       "      <td>...</td>\n",
       "      <td>...</td>\n",
       "      <td>...</td>\n",
       "      <td>...</td>\n",
       "      <td>...</td>\n",
       "      <td>...</td>\n",
       "      <td>...</td>\n",
       "      <td>...</td>\n",
       "      <td>...</td>\n",
       "      <td>...</td>\n",
       "    </tr>\n",
       "    <tr>\n",
       "      <th>18127</th>\n",
       "      <td>B1WIpl0eXoHEQw6ZkvPf3Q</td>\n",
       "      <td>nHXo42Jq950NrEbCyvF4UA</td>\n",
       "      <td>7-5eljD7oqIdLYU5_sqpqA</td>\n",
       "      <td>5</td>\n",
       "      <td>2</td>\n",
       "      <td>0</td>\n",
       "      <td>0</td>\n",
       "      <td>We haven't had Noble Roman's Pizza for a very ...</td>\n",
       "      <td>2020-06-11 02:49:34</td>\n",
       "      <td>Karen</td>\n",
       "      <td>...</td>\n",
       "      <td>39.978454</td>\n",
       "      <td>-86.154787</td>\n",
       "      <td>McCordsville</td>\n",
       "      <td>0</td>\n",
       "      <td>900</td>\n",
       "      <td>7-5eljD7oqIdLYU5_sqpqA</td>\n",
       "      <td>3.5</td>\n",
       "      <td>1</td>\n",
       "      <td>4</td>\n",
       "      <td>38</td>\n",
       "    </tr>\n",
       "    <tr>\n",
       "      <th>18131</th>\n",
       "      <td>bZGNw6bx4cM5BwMe-CcT7A</td>\n",
       "      <td>gWZETLPu_ihAtLOYtrm0mw</td>\n",
       "      <td>Obk11u4CHhyqwkiJ517kaw</td>\n",
       "      <td>5</td>\n",
       "      <td>16</td>\n",
       "      <td>2</td>\n",
       "      <td>13</td>\n",
       "      <td>After asking friends for recommendations in Ne...</td>\n",
       "      <td>2022-01-10 16:10:13</td>\n",
       "      <td>Gabriella</td>\n",
       "      <td>...</td>\n",
       "      <td>29.953541</td>\n",
       "      <td>-90.074752</td>\n",
       "      <td>New Orleans</td>\n",
       "      <td>1</td>\n",
       "      <td>322</td>\n",
       "      <td>Obk11u4CHhyqwkiJ517kaw</td>\n",
       "      <td>4.0</td>\n",
       "      <td>1</td>\n",
       "      <td>2</td>\n",
       "      <td>2048</td>\n",
       "    </tr>\n",
       "    <tr>\n",
       "      <th>18133</th>\n",
       "      <td>cc8VettDuW-6nGLosYIIMA</td>\n",
       "      <td>qJMlmtF60eJnH2MWNps6Og</td>\n",
       "      <td>UM6XgOtTX4DWWcGDTWtjEg</td>\n",
       "      <td>5</td>\n",
       "      <td>0</td>\n",
       "      <td>0</td>\n",
       "      <td>0</td>\n",
       "      <td>We came to handlebar for geeks who drink trivi...</td>\n",
       "      <td>2019-11-15 17:52:32</td>\n",
       "      <td>Maggie</td>\n",
       "      <td>...</td>\n",
       "      <td>38.627945</td>\n",
       "      <td>-90.251275</td>\n",
       "      <td>St Louis</td>\n",
       "      <td>1</td>\n",
       "      <td>1109</td>\n",
       "      <td>UM6XgOtTX4DWWcGDTWtjEg</td>\n",
       "      <td>4.0</td>\n",
       "      <td>1</td>\n",
       "      <td>3</td>\n",
       "      <td>246</td>\n",
       "    </tr>\n",
       "    <tr>\n",
       "      <th>18134</th>\n",
       "      <td>s80hq-ipoqi9wgAQsfnR7g</td>\n",
       "      <td>6z_Kd-MrM66rzWQX9zZRjA</td>\n",
       "      <td>5gIfmupQTP3Lk4wIgNfoEQ</td>\n",
       "      <td>3</td>\n",
       "      <td>0</td>\n",
       "      <td>0</td>\n",
       "      <td>0</td>\n",
       "      <td>Had lunch there and the menu was very simple. ...</td>\n",
       "      <td>2016-08-10 21:37:23</td>\n",
       "      <td>Nancy</td>\n",
       "      <td>...</td>\n",
       "      <td>39.928215</td>\n",
       "      <td>-86.024509</td>\n",
       "      <td>Fishers</td>\n",
       "      <td>1</td>\n",
       "      <td>2301</td>\n",
       "      <td>5gIfmupQTP3Lk4wIgNfoEQ</td>\n",
       "      <td>4.0</td>\n",
       "      <td>0</td>\n",
       "      <td>5</td>\n",
       "      <td>109</td>\n",
       "    </tr>\n",
       "    <tr>\n",
       "      <th>18136</th>\n",
       "      <td>aeKu7m6sKFi9bT4Z-6Zklw</td>\n",
       "      <td>iBmV2ylAPbipMNf49yOIfw</td>\n",
       "      <td>popafcgguxpuJAiWDBhiPg</td>\n",
       "      <td>4</td>\n",
       "      <td>2</td>\n",
       "      <td>0</td>\n",
       "      <td>0</td>\n",
       "      <td>Mid Peninsula hits the sweet spot between dive...</td>\n",
       "      <td>2016-01-15 18:10:18</td>\n",
       "      <td>Cat</td>\n",
       "      <td>...</td>\n",
       "      <td>27.767032</td>\n",
       "      <td>-82.699513</td>\n",
       "      <td>Saint Petersburg</td>\n",
       "      <td>1</td>\n",
       "      <td>2509</td>\n",
       "      <td>popafcgguxpuJAiWDBhiPg</td>\n",
       "      <td>4.5</td>\n",
       "      <td>0</td>\n",
       "      <td>3</td>\n",
       "      <td>107</td>\n",
       "    </tr>\n",
       "  </tbody>\n",
       "</table>\n",
       "<p>9903 rows × 32 columns</p>\n",
       "</div>"
      ],
      "text/plain": [
       "                    review_id                 user_id           business_id_x  \\\n",
       "0      NILjwITiFhpdhiE3SiHR8Q  WUgxsRUFjATha8L4qWYDww  fbQkVymvZ0dig8umltKhZQ   \n",
       "1      hOwUw1fz3aB4ZhgqCetGTw  fr1Hz2acAb3OaL3l6DyKNg  RewAum_fQ0lXdFoUX18J0g   \n",
       "15     bbVN5xloXk4Bzf6AF0wwMw  8fkeTZoaojIL3GIHvvTCyA  LdECsE8lJS7v5GTFTcjPSg   \n",
       "16     OQL_x9smctWsVq_qQTOlcg  _zC91aGLwBjnMJji-rpG9A  cGX-1IUwXOjkUqZbkKYcjw   \n",
       "17     P-tNl7Z4lBq-nPvzU0S2Iw  pUNvLJwdJIOemOgU98mp1w  2HxkdqHmbYGj_BH1bLaiSw   \n",
       "...                       ...                     ...                     ...   \n",
       "18127  B1WIpl0eXoHEQw6ZkvPf3Q  nHXo42Jq950NrEbCyvF4UA  7-5eljD7oqIdLYU5_sqpqA   \n",
       "18131  bZGNw6bx4cM5BwMe-CcT7A  gWZETLPu_ihAtLOYtrm0mw  Obk11u4CHhyqwkiJ517kaw   \n",
       "18133  cc8VettDuW-6nGLosYIIMA  qJMlmtF60eJnH2MWNps6Og  UM6XgOtTX4DWWcGDTWtjEg   \n",
       "18134  s80hq-ipoqi9wgAQsfnR7g  6z_Kd-MrM66rzWQX9zZRjA  5gIfmupQTP3Lk4wIgNfoEQ   \n",
       "18136  aeKu7m6sKFi9bT4Z-6Zklw  iBmV2ylAPbipMNf49yOIfw  popafcgguxpuJAiWDBhiPg   \n",
       "\n",
       "       stars  useful_Rev  funny_Rev  cool_Rev  \\\n",
       "0          3           2          1         1   \n",
       "1          5          17          4        13   \n",
       "15         4           0          0         0   \n",
       "16         5           8          0         3   \n",
       "17         4           5          2         3   \n",
       "...      ...         ...        ...       ...   \n",
       "18127      5           2          0         0   \n",
       "18131      5          16          2        13   \n",
       "18133      5           0          0         0   \n",
       "18134      3           0          0         0   \n",
       "18136      4           2          0         0   \n",
       "\n",
       "                                                    text                 date  \\\n",
       "0      They give you LOTS of food and you will not go...  2020-09-23 21:49:15   \n",
       "1      It is 4.5 stars. Not yet 5 stars. Mel has a go...  2020-08-18 19:09:46   \n",
       "15     Before reading on, make sure id you eat here y...  2018-12-16 00:07:13   \n",
       "16     Fogo De Chao\\r\\n1337 Chestnut Street, Philadel...  2015-11-03 03:01:00   \n",
       "17     Nektar is a beautiful wine bar right in the ce...  2020-04-10 12:53:26   \n",
       "...                                                  ...                  ...   \n",
       "18127  We haven't had Noble Roman's Pizza for a very ...  2020-06-11 02:49:34   \n",
       "18131  After asking friends for recommendations in Ne...  2022-01-10 16:10:13   \n",
       "18133  We came to handlebar for geeks who drink trivi...  2019-11-15 17:52:32   \n",
       "18134  Had lunch there and the menu was very simple. ...  2016-08-10 21:37:23   \n",
       "18136  Mid Peninsula hits the sweet spot between dive...  2016-01-15 18:10:18   \n",
       "\n",
       "            name  ...   latitude  longitude            city_y  is_home  \\\n",
       "0          Glenn  ...  27.948237 -82.527587             Tampa        1   \n",
       "1           Boon  ...  28.031316 -82.451534             Tampa        1   \n",
       "15           Amy  ...  27.725209 -82.742302    St. Pete Beach        1   \n",
       "16          John  ...  39.950917 -75.162971      Philadelphia        1   \n",
       "17           Amy  ...  40.362115 -74.950957          Lansdale        0   \n",
       "...          ...  ...        ...        ...               ...      ...   \n",
       "18127      Karen  ...  39.978454 -86.154787      McCordsville        0   \n",
       "18131  Gabriella  ...  29.953541 -90.074752       New Orleans        1   \n",
       "18133     Maggie  ...  38.627945 -90.251275          St Louis        1   \n",
       "18134      Nancy  ...  39.928215 -86.024509           Fishers        1   \n",
       "18136        Cat  ...  27.767032 -82.699513  Saint Petersburg        1   \n",
       "\n",
       "       time_since           business_id_y stars_bus  goodReview  eliteCount  \\\n",
       "0             796  fbQkVymvZ0dig8umltKhZQ       4.0           0          10   \n",
       "1             832  RewAum_fQ0lXdFoUX18J0g       5.0           0           8   \n",
       "15           1443  LdECsE8lJS7v5GTFTcjPSg       4.0           0           3   \n",
       "16           2582  cGX-1IUwXOjkUqZbkKYcjw       4.0           1           2   \n",
       "17            962  2HxkdqHmbYGj_BH1bLaiSw       4.0           0          10   \n",
       "...           ...                     ...       ...         ...         ...   \n",
       "18127         900  7-5eljD7oqIdLYU5_sqpqA       3.5           1           4   \n",
       "18131         322  Obk11u4CHhyqwkiJ517kaw       4.0           1           2   \n",
       "18133        1109  UM6XgOtTX4DWWcGDTWtjEg       4.0           1           3   \n",
       "18134        2301  5gIfmupQTP3Lk4wIgNfoEQ       4.0           0           5   \n",
       "18136        2509  popafcgguxpuJAiWDBhiPg       4.5           0           3   \n",
       "\n",
       "      numFriends  \n",
       "0            168  \n",
       "1            825  \n",
       "15            34  \n",
       "16            68  \n",
       "17           335  \n",
       "...          ...  \n",
       "18127         38  \n",
       "18131       2048  \n",
       "18133        246  \n",
       "18134        109  \n",
       "18136        107  \n",
       "\n",
       "[9903 rows x 32 columns]"
      ]
     },
     "execution_count": 447,
     "metadata": {},
     "output_type": "execute_result"
    }
   ],
   "source": [
    "dataFull"
   ]
  },
  {
   "cell_type": "markdown",
   "metadata": {},
   "source": [
    "# Model"
   ]
  },
  {
   "cell_type": "code",
   "execution_count": 441,
   "metadata": {},
   "outputs": [],
   "source": [
    "y = dataFull['goodReview']\n",
    "X = dataFull.loc[:, ['review_count', 'useful_User', 'funny_User', 'cool_User', 'fans', 'average_stars', 'is_home', 'time_since', 'eliteCount', 'numFriends']]"
   ]
  },
  {
   "cell_type": "code",
   "execution_count": 442,
   "metadata": {},
   "outputs": [],
   "source": [
    "scaler = StandardScaler()\n",
    "X_ss = scaler.fit_transform(X)"
   ]
  },
  {
   "cell_type": "code",
   "execution_count": 443,
   "metadata": {},
   "outputs": [],
   "source": [
    "clf = LogisticRegression(penalty='none').fit(X_ss, y)"
   ]
  },
  {
   "cell_type": "code",
   "execution_count": 444,
   "metadata": {},
   "outputs": [
    {
     "data": {
      "text/plain": [
       "0.6022417449257801"
      ]
     },
     "execution_count": 444,
     "metadata": {},
     "output_type": "execute_result"
    }
   ],
   "source": [
    "clf.score(X_ss, y)"
   ]
  },
  {
   "cell_type": "code",
   "execution_count": 425,
   "metadata": {},
   "outputs": [],
   "source": [
    "params = clf.get_params()"
   ]
  },
  {
   "cell_type": "code",
   "execution_count": 426,
   "metadata": {},
   "outputs": [
    {
     "data": {
      "text/plain": [
       "{'C': 1.0,\n",
       " 'class_weight': None,\n",
       " 'dual': False,\n",
       " 'fit_intercept': True,\n",
       " 'intercept_scaling': 1,\n",
       " 'l1_ratio': None,\n",
       " 'max_iter': 100,\n",
       " 'multi_class': 'auto',\n",
       " 'n_jobs': None,\n",
       " 'penalty': 'l2',\n",
       " 'random_state': None,\n",
       " 'solver': 'lbfgs',\n",
       " 'tol': 0.0001,\n",
       " 'verbose': 0,\n",
       " 'warm_start': False}"
      ]
     },
     "execution_count": 426,
     "metadata": {},
     "output_type": "execute_result"
    }
   ],
   "source": [
    "params"
   ]
  },
  {
   "cell_type": "code",
   "execution_count": 448,
   "metadata": {},
   "outputs": [
    {
     "name": "stdout",
     "output_type": "stream",
     "text": [
      "[[-0.02703119 -0.15632987  0.23585574 -0.05737717 -0.08529643  0.51548612\n",
      "  -0.0277329  -0.00225487 -0.08839213  0.08566784]]\n"
     ]
    }
   ],
   "source": [
    "print(clf.coef_)"
   ]
  },
  {
   "cell_type": "code",
   "execution_count": null,
   "metadata": {},
   "outputs": [],
   "source": []
  }
 ],
 "metadata": {
  "kernelspec": {
   "display_name": "Python 3 (ipykernel)",
   "language": "python",
   "name": "python3"
  },
  "language_info": {
   "codemirror_mode": {
    "name": "ipython",
    "version": 3
   },
   "file_extension": ".py",
   "mimetype": "text/x-python",
   "name": "python",
   "nbconvert_exporter": "python",
   "pygments_lexer": "ipython3",
   "version": "3.9.12"
  },
  "vscode": {
   "interpreter": {
    "hash": "e03b612d84ba21ce95ed447e81b3062e1eb99b56c6d885cdab4aaa12f1b8e240"
   }
  }
 },
 "nbformat": 4,
 "nbformat_minor": 2
}
