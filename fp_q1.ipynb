{
 "cells": [
  {
   "cell_type": "code",
   "execution_count": 1,
   "metadata": {},
   "outputs": [],
   "source": [
    "import numpy as np\n",
    "import pandas as pd\n",
    "import json\n",
    "import time\n",
    "from sklearn.model_selection import GridSearchCV\n",
    "from sklearn.metrics import accuracy_score\n",
    "from sklearn.metrics import f1_score\n",
    "from sklearn.metrics import recall_score\n",
    "from sklearn.metrics import precision_score\n",
    "from sklearn.metrics import classification_report\n",
    "from sklearn import metrics"
   ]
  },
  {
   "cell_type": "code",
   "execution_count": 2,
   "metadata": {},
   "outputs": [],
   "source": [
    "pd.set_option('display.max_columns', None)"
   ]
  },
  {
   "cell_type": "code",
   "execution_count": 3,
   "metadata": {},
   "outputs": [],
   "source": [
    "business_df = pd.read_csv(\"restaurant.csv\")\n",
    "review_df = pd.read_csv(\"review.csv\")\n",
    "user_df = pd.read_csv(\"user.csv\")"
   ]
  },
  {
   "cell_type": "code",
   "execution_count": 4,
   "metadata": {},
   "outputs": [],
   "source": [
    "business_df.drop(columns = 'Unnamed: 0', inplace = True)\n",
    "business_loc = business_df.iloc[:, [0,3, 4, 5, 6, 7]]\n",
    "user_useful = user_df.iloc[:, [1, 2, 3, 4, 5, 6, 7, 8, 9, 10, 11]]\n",
    "user_useful.set_index('user_id', inplace = True)\n",
    "review_df.drop(columns = 'Unnamed: 0', inplace=True)\n",
    "rJoinU = review_df.join(user_useful, on = 'user_id', lsuffix='_Rev', rsuffix = '_User')\n",
    "rJoinU.dropna(inplace = True)\n",
    "business_loc.set_index('business_id', inplace= True)\n",
    "rJUJBloc = rJoinU.join(business_loc, on='business_id', lsuffix='_rJU', rsuffix='_bloc')\n",
    "rJUJBloc.dropna(inplace= True)\n",
    "hometown = rJUJBloc.groupby(['user_id'])['city'].agg(lambda x: pd.Series.mode(x)[0]).to_frame()"
   ]
  },
  {
   "cell_type": "code",
   "execution_count": 5,
   "metadata": {},
   "outputs": [],
   "source": [
    "data = rJUJBloc.merge(hometown, how = 'left', on=\"user_id\", suffixes=('_x', '_y'))\n",
    "data['is_home'] = (data['city_x'] == data['city_y']).astype(int)"
   ]
  },
  {
   "cell_type": "code",
   "execution_count": 6,
   "metadata": {},
   "outputs": [],
   "source": [
    "data['time_since'] = (pd.Timestamp(2022, 11, 29) - pd.to_datetime(data.date)).dt.days\n",
    "merged = business_df.merge(review_df, on='business_id')\n",
    "merged.dropna(inplace=True)\n",
    "merged['goodReview'] = (merged['stars_x'] < merged['stars_y']).astype(int)\n",
    "goodRev = merged.loc[:, ['review_id','business_id', 'stars_x', 'goodReview']]\n",
    "goodRev.rename(columns={'stars_x': 'stars_bus'}, inplace=True)\n",
    "dataFull = data.merge(goodRev, on='review_id')"
   ]
  },
  {
   "cell_type": "code",
   "execution_count": 7,
   "metadata": {},
   "outputs": [
    {
     "data": {
      "text/plain": [
       "'{\\'BusinessParking\\': \\'None\\', \\'BusinessAcceptsCreditCards\\': \\'True\\', \\'RestaurantsAttire\\': \"u\\'casual\\'\", \\'OutdoorSeating\\': \\'True\\', \\'RestaurantsReservations\\': \\'False\\', \\'Caters\\': \\'False\\', \\'RestaurantsTakeOut\\': \\'True\\', \\'Alcohol\\': \"u\\'none\\'\", \\'Ambience\\': \\'None\\', \\'GoodForKids\\': \\'True\\', \\'RestaurantsPriceRange2\\': \\'1\\', \\'ByAppointmentOnly\\': \\'False\\', \\'CoatCheck\\': \\'False\\', \\'DogsAllowed\\': \\'False\\', \\'RestaurantsTableService\\': \\'False\\', \\'RestaurantsGoodForGroups\\': \\'True\\', \\'RestaurantsDelivery\\': \\'True\\', \\'WiFi\\': \"u\\'no\\'\", \\'WheelchairAccessible\\': \\'True\\', \\'HasTV\\': \\'True\\', \\'HappyHour\\': \\'False\\', \\'DriveThru\\': \\'True\\', \\'BikeParking\\': \\'False\\'}'"
      ]
     },
     "execution_count": 7,
     "metadata": {},
     "output_type": "execute_result"
    }
   ],
   "source": [
    "elite = data.loc[:, ['user_id', 'elite']]\n",
    "elite['glitch'] = elite['elite'].str.contains('20,20').astype(int)\n",
    "elite['elite'] = elite['elite'].str.split(',')\n",
    "elite['count'] = elite['elite'].apply(lambda x: len(x))\n",
    "elite['trueCount'] = elite['count'] - elite['glitch']\n",
    "elite.drop(columns=['elite', 'glitch', 'count'], inplace = True)\n",
    "elite = elite.rename(columns={'trueCount': 'eliteCount'})\n",
    "elite = elite.drop_duplicates(subset = 'user_id')\n",
    "dataFull = dataFull.merge(elite, how = 'left', on = 'user_id')\n",
    "friends = data.loc[:, ['user_id', 'friends']]\n",
    "friends['numFriends'] = friends.friends.str.split(',').apply(lambda x: len(x))\n",
    "friends.drop(columns = 'friends', inplace = True)\n",
    "friends = friends.drop_duplicates(subset='user_id')\n",
    "dataFull = dataFull.merge(friends, how = 'left', on = 'user_id')\n",
    "dataFull = dataFull.drop_duplicates(subset='review_id')\n",
    "business_df.loc[1, 'attributes']"
   ]
  },
  {
   "cell_type": "code",
   "execution_count": 8,
   "metadata": {},
   "outputs": [],
   "source": [
    "# Restauran attributes from Jesse's data\n",
    "restaurant_df = pd.read_csv('final_restaurant.csv')\n",
    "onehot = restaurant_df.drop(columns = ['Unnamed: 0', 'Unnamed: 0.1', 'name', 'address', 'city', 'state', 'postal_code', 'latitude', 'longitude', 'stars', 'review_count' ])\n",
    "dataFull.rename(columns={'business_id_x':'business_id'}, inplace = True)\n",
    "dataFullFull = dataFull.merge(onehot, how = 'left', on = 'business_id')"
   ]
  },
  {
   "cell_type": "code",
   "execution_count": 9,
   "metadata": {},
   "outputs": [],
   "source": [
    "import seaborn as sns\n",
    "import matplotlib.pyplot as plt\n",
    "from sklearn.preprocessing import MinMaxScaler"
   ]
  },
  {
   "cell_type": "code",
   "execution_count": 10,
   "metadata": {},
   "outputs": [],
   "source": [
    "# dataUseful = dataFull.loc[:, ['goodReview', 'review_count', 'useful_User', 'funny_User', 'cool_User', 'fans', 'average_stars', 'is_home', 'time_since', 'eliteCount', 'numFriends']]\n",
    "# dataUseful = dataFullFull.drop(columns = ['review_id', 'user_id', 'business_id', 'stars', 'text', 'date', 'name', 'yelping_since', 'elite', 'friends', 'city_x', 'state', 'postal_code', 'latitude', 'longitude', 'city_y', 'business_id_y', 'stars_bus' ])"
   ]
  },
  {
   "cell_type": "code",
   "execution_count": 11,
   "metadata": {},
   "outputs": [],
   "source": [
    "# simpleData = dataFull.loc[:, ['goodReview', 'review_count', 'useful_User', 'funny_User', 'cool_User', 'fans', 'average_stars', 'is_home', 'time_since', 'eliteCount', 'numFriends']]\n",
    "simpleData = dataFull.loc[:, ['goodReview', 'review_count', 'average_stars', 'is_home', 'time_since']]"
   ]
  },
  {
   "cell_type": "code",
   "execution_count": 12,
   "metadata": {},
   "outputs": [],
   "source": [
    "# corrmat = dataUseful.corr()\n",
    "# f, ax = plt.subplots(figsize = (12, 10))\n",
    "# mask = np.triu(np.ones_like(corrmat, dtype=bool))\n",
    "# cmap = sns.diverging_palette(230, 20, as_cmap=True)\n",
    "# sns.heatmap(corrmat, annot=True, mask = mask, cmap = cmap)\n",
    "# plt.show()"
   ]
  },
  {
   "cell_type": "code",
   "execution_count": 13,
   "metadata": {},
   "outputs": [],
   "source": [
    "y = simpleData['goodReview']\n",
    "X = simpleData.loc[:, 'review_count':]\n",
    "scaler = MinMaxScaler()\n",
    "X_ss = scaler.fit_transform(X)\n",
    "from sklearn.model_selection import train_test_split\n",
    "xtrain, xtest, ytrain, ytest = train_test_split(X_ss, y, test_size=0.3)\n",
    "from sklearn.neighbors import KNeighborsClassifier"
   ]
  },
  {
   "cell_type": "code",
   "execution_count": 14,
   "metadata": {},
   "outputs": [
    {
     "data": {
      "image/png": "[encoded data removed]",
      "text/plain": [
       "<Figure size 432x288 with 1 Axes>"
      ]
     },
     "metadata": {
      "needs_background": "light"
     },
     "output_type": "display_data"
    }
   ],
   "source": [
    "ax = sns.barplot(x=y.value_counts().index, y=y.value_counts())\n",
    "plt.title(\"Target Value Distribution\")\n",
    "plt.ylabel(\"# of reviews\", fontsize=12)\n",
    "for i in ax.containers:\n",
    "    ax.bar_label(i,)"
   ]
  },
  {
   "cell_type": "code",
   "execution_count": 15,
   "metadata": {},
   "outputs": [],
   "source": [
    "from sklearn.experimental import enable_halving_search_cv\n",
    "from sklearn.model_selection import HalvingGridSearchCV"
   ]
  },
  {
   "cell_type": "code",
   "execution_count": 16,
   "metadata": {},
   "outputs": [],
   "source": [
    "# searchSpace = {\n",
    "#     'n_neighbors': range(1,25)\n",
    "# }\n",
    "# gs = GridSearchCV(KNeighborsClassifier(), searchSpace, cv=5, scoring = 'f1_macro')\n",
    "# gs.fit(xtrain, ytrain)\n",
    "# print(gs.best_estimator_)"
   ]
  },
  {
   "cell_type": "code",
   "execution_count": 17,
   "metadata": {},
   "outputs": [],
   "source": [
    "neigh = KNeighborsClassifier(n_neighbors=21)\n",
    "neigh.fit(xtrain, ytrain)\n",
    "yhat = neigh.predict(xtest)\n",
    "y_proba = neigh.predict_proba(xtest)"
   ]
  },
  {
   "cell_type": "code",
   "execution_count": 18,
   "metadata": {},
   "outputs": [
    {
     "name": "stdout",
     "output_type": "stream",
     "text": [
      "              precision    recall  f1-score   support\n",
      "\n",
      "           0      0.582     0.612     0.597    177132\n",
      "           1      0.584     0.553     0.568    174005\n",
      "\n",
      "    accuracy                          0.583    351137\n",
      "   macro avg      0.583     0.583     0.582    351137\n",
      "weighted avg      0.583     0.583     0.583    351137\n",
      "\n"
     ]
    }
   ],
   "source": [
    "report = classification_report(ytest, yhat, digits=3)\n",
    "print(report)"
   ]
  },
  {
   "cell_type": "code",
   "execution_count": 19,
   "metadata": {},
   "outputs": [
    {
     "data": {
      "image/png": "[encoded data removed]",
      "text/plain": [
       "<Figure size 432x288 with 1 Axes>"
      ]
     },
     "metadata": {
      "needs_background": "light"
     },
     "output_type": "display_data"
    }
   ],
   "source": [
    "fpr, tpr, thresh = metrics.roc_curve(ytest, y_proba[:, 1])\n",
    "auc = metrics.roc_auc_score(ytest, y_proba[:, 1])\n",
    "plt.plot(fpr, tpr, label = 'AUC = ' + str(auc))\n",
    "plt.title('ROC')\n",
    "plt.xlabel('False Positive Rate')\n",
    "plt.ylabel('True Positive Rate')\n",
    "plt.grid()\n",
    "plt.legend()\n",
    "plt.show()"
   ]
  },
  {
   "cell_type": "markdown",
   "metadata": {},
   "source": [
    "### Logistic"
   ]
  },
  {
   "cell_type": "code",
   "execution_count": 20,
   "metadata": {},
   "outputs": [],
   "source": [
    "from sklearn.linear_model import LogisticRegression"
   ]
  },
  {
   "cell_type": "code",
   "execution_count": 21,
   "metadata": {},
   "outputs": [],
   "source": [
    "logit = LogisticRegression(penalty='none').fit(xtrain, ytrain)"
   ]
  },
  {
   "cell_type": "code",
   "execution_count": 22,
   "metadata": {},
   "outputs": [],
   "source": [
    "yhat = logit.predict(xtest)\n",
    "y_proba = logit.predict_proba(xtest)"
   ]
  },
  {
   "cell_type": "code",
   "execution_count": 23,
   "metadata": {},
   "outputs": [
    {
     "name": "stdout",
     "output_type": "stream",
     "text": [
      "              precision    recall  f1-score   support\n",
      "\n",
      "           0      0.598     0.615     0.606    177132\n",
      "           1      0.597     0.580     0.588    174005\n",
      "\n",
      "    accuracy                          0.597    351137\n",
      "   macro avg      0.597     0.597     0.597    351137\n",
      "weighted avg      0.597     0.597     0.597    351137\n",
      "\n"
     ]
    }
   ],
   "source": [
    "report = classification_report(ytest, yhat, digits=3)\n",
    "print(report)"
   ]
  },
  {
   "cell_type": "code",
   "execution_count": 24,
   "metadata": {},
   "outputs": [
    {
     "data": {
      "image/png": "[encoded data removed]",
      "text/plain": [
       "<Figure size 432x288 with 1 Axes>"
      ]
     },
     "metadata": {
      "needs_background": "light"
     },
     "output_type": "display_data"
    }
   ],
   "source": [
    "fpr, tpr, thresh = metrics.roc_curve(ytest, y_proba[:, 1])\n",
    "auc = metrics.roc_auc_score(ytest, y_proba[:, 1])\n",
    "plt.plot(fpr, tpr, label = 'AUC = ' + str(auc))\n",
    "plt.title('ROC')\n",
    "plt.xlabel('False Positive Rate')\n",
    "plt.ylabel('True Positive Rate')\n",
    "plt.grid()\n",
    "plt.legend()\n",
    "plt.show()"
   ]
  },
  {
   "cell_type": "markdown",
   "metadata": {},
   "source": [
    "### Decision Tree"
   ]
  },
  {
   "cell_type": "code",
   "execution_count": 25,
   "metadata": {},
   "outputs": [],
   "source": [
    "from sklearn.tree import DecisionTreeClassifier"
   ]
  },
  {
   "cell_type": "code",
   "execution_count": 26,
   "metadata": {},
   "outputs": [],
   "source": [
    "# searchSpace = {\n",
    "#     'max_depth': range(1,20),\n",
    "#     'min_samples_leaf': range(1,20)\n",
    "# }\n",
    "# gs = GridSearchCV(DecisionTreeClassifier(), searchSpace, cv=5, scoring = 'f1_macro')\n",
    "# gs.fit(xtrain, ytrain)\n",
    "# print(gs.best_estimator_)"
   ]
  },
  {
   "cell_type": "code",
   "execution_count": 27,
   "metadata": {},
   "outputs": [],
   "source": [
    "dt = DecisionTreeClassifier(max_depth=4, min_samples_leaf=14)\n",
    "dt.fit(xtrain, ytrain)\n",
    "yhat = dt.predict(xtest)\n",
    "y_proba = dt.predict_proba(xtest)"
   ]
  },
  {
   "cell_type": "code",
   "execution_count": 28,
   "metadata": {},
   "outputs": [
    {
     "name": "stdout",
     "output_type": "stream",
     "text": [
      "              precision    recall  f1-score   support\n",
      "\n",
      "           0      0.597     0.619     0.608    177132\n",
      "           1      0.597     0.575     0.586    174005\n",
      "\n",
      "    accuracy                          0.597    351137\n",
      "   macro avg      0.597     0.597     0.597    351137\n",
      "weighted avg      0.597     0.597     0.597    351137\n",
      "\n"
     ]
    }
   ],
   "source": [
    "report = classification_report(ytest, yhat, digits=3)\n",
    "print(report)"
   ]
  },
  {
   "cell_type": "code",
   "execution_count": 29,
   "metadata": {},
   "outputs": [
    {
     "data": {
      "image/png": "[encoded data removed]",
      "text/plain": [
       "<Figure size 432x288 with 1 Axes>"
      ]
     },
     "metadata": {
      "needs_background": "light"
     },
     "output_type": "display_data"
    }
   ],
   "source": [
    "fpr, tpr, thresh = metrics.roc_curve(ytest, y_proba[:, 1])\n",
    "auc = metrics.roc_auc_score(ytest, y_proba[:, 1])\n",
    "plt.plot(fpr, tpr, label = 'AUC = ' + str(auc))\n",
    "plt.title('ROC')\n",
    "plt.xlabel('False Positive Rate')\n",
    "plt.ylabel('True Positive Rate')\n",
    "plt.grid()\n",
    "plt.legend()\n",
    "plt.show()"
   ]
  },
  {
   "cell_type": "markdown",
   "metadata": {},
   "source": [
    "### SVM"
   ]
  },
  {
   "cell_type": "code",
   "execution_count": 30,
   "metadata": {},
   "outputs": [],
   "source": [
    "from sklearn.svm import LinearSVC\n",
    "from sklearn.calibration import CalibratedClassifierCV"
   ]
  },
  {
   "cell_type": "code",
   "execution_count": 31,
   "metadata": {},
   "outputs": [],
   "source": [
    "# searchSpace = {'C': [0.1,1, 10, 100], \n",
    "#                 'gamma': [1,0.1,0.01,0.001],\n",
    "#                 'kernel': ['rbf', 'poly', 'sigmoid']\n",
    "# }\n",
    "# gs = GridSearchCV(SVC(), searchSpace, cv = 5, scoring = 'f1_macro')\n",
    "# gs.fit(xtrain, ytrain)\n",
    "# print(gs.best_estimator_)"
   ]
  },
  {
   "cell_type": "code",
   "execution_count": 33,
   "metadata": {},
   "outputs": [],
   "source": [
    "svm = LinearSVC(dual=False).fit(xtrain, ytrain)\n",
    "clf = CalibratedClassifierCV(svm) \n",
    "clf.fit(xtrain, ytrain)\n",
    "y_proba = clf.predict_proba(xtest)\n",
    "yhat = svm.predict(xtest)"
   ]
  },
  {
   "cell_type": "code",
   "execution_count": 34,
   "metadata": {},
   "outputs": [
    {
     "name": "stdout",
     "output_type": "stream",
     "text": [
      "              precision    recall  f1-score   support\n",
      "\n",
      "           0      0.598     0.614     0.606    177132\n",
      "           1      0.596     0.580     0.588    174005\n",
      "\n",
      "    accuracy                          0.597    351137\n",
      "   macro avg      0.597     0.597     0.597    351137\n",
      "weighted avg      0.597     0.597     0.597    351137\n",
      "\n"
     ]
    }
   ],
   "source": [
    "report = classification_report(ytest, yhat, digits=3)\n",
    "print(report)"
   ]
  },
  {
   "cell_type": "code",
   "execution_count": 35,
   "metadata": {},
   "outputs": [
    {
     "data": {
      "image/png": "[encoded data removed]",
      "text/plain": [
       "<Figure size 432x288 with 1 Axes>"
      ]
     },
     "metadata": {
      "needs_background": "light"
     },
     "output_type": "display_data"
    }
   ],
   "source": [
    "fpr, tpr, thresh = metrics.roc_curve(ytest, y_proba[:, 1])\n",
    "auc = metrics.roc_auc_score(ytest, y_proba[:, 1])\n",
    "plt.plot(fpr, tpr, label = 'AUC = ' + str(auc))\n",
    "plt.title('ROC')\n",
    "plt.xlabel('False Positive Rate')\n",
    "plt.ylabel('True Positive Rate')\n",
    "plt.grid()\n",
    "plt.legend()\n",
    "plt.show()"
   ]
  },
  {
   "cell_type": "markdown",
   "metadata": {},
   "source": [
    "### Random Forest"
   ]
  },
  {
   "cell_type": "code",
   "execution_count": 36,
   "metadata": {},
   "outputs": [],
   "source": [
    "from sklearn.ensemble import RandomForestClassifier"
   ]
  },
  {
   "cell_type": "code",
   "execution_count": 37,
   "metadata": {},
   "outputs": [],
   "source": [
    "# searchSpace = {\n",
    "#     'n_estimators': range(10,15),\n",
    "#     'max_depth': range(1,10),\n",
    "#     'min_samples_leaf': range(1,20)\n",
    "# }\n",
    "# gs = GridSearchCV(RandomForestClassifier(), searchSpace, cv=5, scoring='f1_macro')\n",
    "# gs.fit(xtrain, ytrain)\n",
    "# print(gs.best_estimator_)"
   ]
  },
  {
   "cell_type": "code",
   "execution_count": 38,
   "metadata": {},
   "outputs": [],
   "source": [
    "rf = RandomForestClassifier(n_estimators = 15, max_depth = 5, min_samples_leaf = 15)\n",
    "rf.fit(xtrain, ytrain)\n",
    "yhat = rf.predict(xtest)\n",
    "y_proba = rf.predict_proba(xtest)"
   ]
  },
  {
   "cell_type": "code",
   "execution_count": 39,
   "metadata": {},
   "outputs": [
    {
     "name": "stdout",
     "output_type": "stream",
     "text": [
      "              precision    recall  f1-score   support\n",
      "\n",
      "           0      0.585     0.698     0.637    177132\n",
      "           1      0.618     0.497     0.551    174005\n",
      "\n",
      "    accuracy                          0.598    351137\n",
      "   macro avg      0.602     0.597     0.594    351137\n",
      "weighted avg      0.601     0.598     0.594    351137\n",
      "\n"
     ]
    }
   ],
   "source": [
    "report = classification_report(ytest, yhat, digits=3)\n",
    "print(report)"
   ]
  },
  {
   "cell_type": "code",
   "execution_count": 40,
   "metadata": {},
   "outputs": [
    {
     "data": {
      "image/png": "[encoded data removed]",
      "text/plain": [
       "<Figure size 432x288 with 1 Axes>"
      ]
     },
     "metadata": {
      "needs_background": "light"
     },
     "output_type": "display_data"
    }
   ],
   "source": [
    "fpr, tpr, thresh = metrics.roc_curve(ytest, y_proba[:, 1])\n",
    "auc = metrics.roc_auc_score(ytest, y_proba[:, 1])\n",
    "plt.plot(fpr, tpr, label = 'AUC = ' + str(auc))\n",
    "plt.title('ROC')\n",
    "plt.xlabel('False Positive Rate')\n",
    "plt.ylabel('True Positive Rate')\n",
    "plt.grid()\n",
    "plt.legend()\n",
    "plt.show()"
   ]
  },
  {
   "attachments": {},
   "cell_type": "markdown",
   "metadata": {},
   "source": [
    "### Perceptron"
   ]
  },
  {
   "cell_type": "code",
   "execution_count": 41,
   "metadata": {},
   "outputs": [],
   "source": [
    "from sklearn.linear_model import Perceptron"
   ]
  },
  {
   "cell_type": "code",
   "execution_count": 44,
   "metadata": {},
   "outputs": [],
   "source": [
    "perceptron = Perceptron()\n",
    "perceptron.fit(xtrain, ytrain)\n",
    "clf = CalibratedClassifierCV(perceptron) \n",
    "clf.fit(xtrain, ytrain)\n",
    "yhat = perceptron.predict(xtest)\n",
    "y_proba = clf.predict_proba(xtest)"
   ]
  },
  {
   "cell_type": "code",
   "execution_count": 45,
   "metadata": {},
   "outputs": [
    {
     "name": "stdout",
     "output_type": "stream",
     "text": [
      "              precision    recall  f1-score   support\n",
      "\n",
      "           0      0.654     0.162     0.259    177132\n",
      "           1      0.517     0.913     0.660    174005\n",
      "\n",
      "    accuracy                          0.534    351137\n",
      "   macro avg      0.585     0.537     0.460    351137\n",
      "weighted avg      0.586     0.534     0.458    351137\n",
      "\n"
     ]
    }
   ],
   "source": [
    "report = classification_report(ytest, yhat, digits=3)\n",
    "print(report)"
   ]
  },
  {
   "cell_type": "code",
   "execution_count": 46,
   "metadata": {},
   "outputs": [
    {
     "data": {
      "image/png": "[encoded data removed]",
      "text/plain": [
       "<Figure size 432x288 with 1 Axes>"
      ]
     },
     "metadata": {
      "needs_background": "light"
     },
     "output_type": "display_data"
    }
   ],
   "source": [
    "fpr, tpr, thresh = metrics.roc_curve(ytest, y_proba[:, 1])\n",
    "auc = metrics.roc_auc_score(ytest, y_proba[:, 1])\n",
    "plt.plot(fpr, tpr, label = 'AUC = ' + str(auc))\n",
    "plt.title('ROC')\n",
    "plt.xlabel('False Positive Rate')\n",
    "plt.ylabel('True Positive Rate')\n",
    "plt.grid()\n",
    "plt.legend()\n",
    "plt.show()"
   ]
  },
  {
   "attachments": {},
   "cell_type": "markdown",
   "metadata": {},
   "source": [
    "### Gradient Boosting"
   ]
  },
  {
   "cell_type": "code",
   "execution_count": 47,
   "metadata": {},
   "outputs": [],
   "source": [
    "from sklearn.ensemble import GradientBoostingClassifier\n",
    "gb = GradientBoostingClassifier()\n",
    "gb.fit(xtrain, ytrain)\n",
    "yhat = gb.predict(xtest)\n",
    "y_proba = gb.predict_proba(xtest)"
   ]
  },
  {
   "cell_type": "code",
   "execution_count": 48,
   "metadata": {},
   "outputs": [
    {
     "name": "stdout",
     "output_type": "stream",
     "text": [
      "              precision    recall  f1-score   support\n",
      "\n",
      "           0      0.592     0.660     0.624    177132\n",
      "           1      0.608     0.538     0.571    174005\n",
      "\n",
      "    accuracy                          0.599    351137\n",
      "   macro avg      0.600     0.599     0.598    351137\n",
      "weighted avg      0.600     0.599     0.598    351137\n",
      "\n"
     ]
    }
   ],
   "source": [
    "report = classification_report(ytest, yhat, digits=3)\n",
    "print(report)"
   ]
  },
  {
   "cell_type": "code",
   "execution_count": 49,
   "metadata": {},
   "outputs": [
    {
     "data": {
      "image/png": "[encoded data removed]",
      "text/plain": [
       "<Figure size 432x288 with 1 Axes>"
      ]
     },
     "metadata": {
      "needs_background": "light"
     },
     "output_type": "display_data"
    }
   ],
   "source": [
    "fpr, tpr, thresh = metrics.roc_curve(ytest, y_proba[:, 1])\n",
    "auc = metrics.roc_auc_score(ytest, y_proba[:, 1])\n",
    "plt.plot(fpr, tpr, label = 'AUC = ' + str(auc))\n",
    "plt.title('ROC')\n",
    "plt.xlabel('False Positive Rate')\n",
    "plt.ylabel('True Positive Rate')\n",
    "plt.grid()\n",
    "plt.legend()\n",
    "plt.show()"
   ]
  },
  {
   "cell_type": "code",
   "execution_count": null,
   "metadata": {},
   "outputs": [],
   "source": []
  }
 ],
 "metadata": {
  "kernelspec": {
   "display_name": "Python 3.8.5 ('base')",
   "language": "python",
   "name": "python3"
  },
  "language_info": {
   "codemirror_mode": {
    "name": "ipython",
    "version": 3
   },
   "file_extension": ".py",
   "mimetype": "text/x-python",
   "name": "python",
   "nbconvert_exporter": "python",
   "pygments_lexer": "ipython3",
   "version": "3.8.5"
  },
  "orig_nbformat": 4,
  "vscode": {
   "interpreter": {
    "hash": "e03b612d84ba21ce95ed447e81b3062e1eb99b56c6d885cdab4aaa12f1b8e240"
   }
  }
 },
 "nbformat": 4,
 "nbformat_minor": 2
}
